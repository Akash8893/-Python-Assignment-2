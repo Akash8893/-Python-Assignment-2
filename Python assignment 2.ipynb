{
 "cells": [
  {
   "cell_type": "markdown",
   "metadata": {},
   "source": [
    "# 1. Create the below pattern using nested for loop in Python.\n",
    "\n",
    "*\n",
    "**\n",
    "***\n",
    "****\n",
    "*****\n",
    "****\n",
    "***\n",
    "**\n",
    "*"
   ]
  },
  {
   "cell_type": "markdown",
   "metadata": {},
   "source": [
    "####  Answer 1"
   ]
  },
  {
   "cell_type": "code",
   "execution_count": 8,
   "metadata": {},
   "outputs": [
    {
     "name": "stdout",
     "output_type": "stream",
     "text": [
      "\n",
      "*  \n",
      "*  *  \n",
      "*  *  *  \n",
      "*  *  *  *  \n",
      "*  *  *  \n",
      "*  *  \n",
      "*  \n"
     ]
    }
   ],
   "source": [
    "#for printing the patern we can assign range.\n",
    "for j in range(4):\n",
    "    for i in range(j):\n",
    "        print('* ',end=\" \")\n",
    "    print()\n",
    "for i in range(4):\n",
    "    for j in range(4-i):\n",
    "        print('* ',end=\" \")\n",
    "    print()"
   ]
  },
  {
   "cell_type": "code",
   "execution_count": 13,
   "metadata": {},
   "outputs": [
    {
     "name": "stdout",
     "output_type": "stream",
     "text": [
      " \n",
      "*   \n",
      "*  *   \n",
      "*  *  *   \n",
      "*  *  *  *   \n",
      "*  *  *  *  *   \n",
      "*  *  *  *   \n",
      "*  *  *   \n",
      "*  *   \n",
      "*   \n"
     ]
    }
   ],
   "source": [
    "#we can create a new integer object called 'n' and that value we can assign in for loop with range\n",
    "n=5;\n",
    "for i in range(n):\n",
    "    for j in range(i):\n",
    "        print ('* ', end=\" \")\n",
    "    print(' ')\n",
    "\n",
    "for i in range(n,0,-1):\n",
    "    for j in range(i):\n",
    "        print('* ', end=\" \")\n",
    "    print(' ')"
   ]
  },
  {
   "cell_type": "code",
   "execution_count": 28,
   "metadata": {},
   "outputs": [
    {
     "name": "stdout",
     "output_type": "stream",
     "text": [
      "10\n",
      " \n",
      "*   \n",
      "*  *   \n",
      "*  *  *   \n",
      "*  *  *  *   \n",
      "*  *  *  *  *   \n",
      "*  *  *  *  *  *   \n",
      "*  *  *  *  *  *  *   \n",
      "*  *  *  *  *  *  *  *   \n",
      "*  *  *  *  *  *  *  *  *   \n",
      "*  *  *  *  *  *  *  *  *  *   \n",
      "*  *  *  *  *  *  *  *  *   \n",
      "*  *  *  *  *  *  *  *   \n",
      "*  *  *  *  *  *  *   \n",
      "*  *  *  *  *  *   \n",
      "*  *  *  *  *   \n",
      "*  *  *  *   \n",
      "*  *  *   \n",
      "*  *   \n",
      "*   \n"
     ]
    }
   ],
   "source": [
    "#in this method we can use Input() function to inpute the any integer number and we can print the pattern.\n",
    "n=int(input());\n",
    "for i in range(n):\n",
    "    for j in range(i):\n",
    "        print ('* ', end=\" \")\n",
    "    print(' ')\n",
    "\n",
    "for i in range(n,0,-1):\n",
    "    for j in range(i):\n",
    "        print('* ', end=\" \")\n",
    "    print(' ')"
   ]
  },
  {
   "cell_type": "markdown",
   "metadata": {},
   "source": [
    "#### Answer 2"
   ]
  },
  {
   "cell_type": "code",
   "execution_count": 10,
   "metadata": {},
   "outputs": [
    {
     "name": "stdout",
     "output_type": "stream",
     "text": [
      "*  \n",
      "*  *  \n",
      "*  *  *  \n",
      "*  *  *  *  \n",
      "*  *  *  *  *  \n",
      "*  *  *  *  \n",
      "*  *  *  \n",
      "*  *  \n",
      "*  \n"
     ]
    }
   ],
   "source": [
    "# the anather way of printing pattern using for loop with an range and If condition\n",
    "for i in range (1,6):\n",
    "    if i>0:\n",
    "        print('*  '*i)\n",
    "for j in range(5,0,-1):\n",
    "    if j<5:\n",
    "        print('*  '*j)"
   ]
  },
  {
   "cell_type": "code",
   "execution_count": 5,
   "metadata": {},
   "outputs": [
    {
     "name": "stdout",
     "output_type": "stream",
     "text": [
      "4\n",
      "  *\n",
      "  *  *\n",
      "  *  *  *\n",
      "  *  *  *  *\n",
      "  *  *  *\n",
      "  *  *\n",
      "  *\n"
     ]
    }
   ],
   "source": [
    "#we can also use input function to assign the value and print the pattern.\n",
    "a=int(input())\n",
    "for i in range (a):\n",
    "    if i>0:\n",
    "        print(i*'*  ')\n",
    "for j in range(a,0,-1):\n",
    "    if j<=a:\n",
    "        print(j*'*  ')"
   ]
  },
  {
   "cell_type": "markdown",
   "metadata": {},
   "source": [
    "# 2. Write a Python program to reverse a word after accepting the input from the user.\n",
    "\n",
    "Sample Output:\n",
    "\n",
    "Input word: ineuron\n",
    "\n",
    "Output: norueni"
   ]
  },
  {
   "cell_type": "markdown",
   "metadata": {},
   "source": [
    "####  Answer 1"
   ]
  },
  {
   "cell_type": "code",
   "execution_count": 2,
   "metadata": {},
   "outputs": [
    {
     "name": "stdout",
     "output_type": "stream",
     "text": [
      "Akash Kaingade\n",
      "edagniaK hsakA\n"
     ]
    }
   ],
   "source": [
    "a=input()\n",
    "print(a[: :-1])"
   ]
  },
  {
   "cell_type": "markdown",
   "metadata": {},
   "source": [
    "####  Answer 2"
   ]
  },
  {
   "cell_type": "code",
   "execution_count": 11,
   "metadata": {},
   "outputs": [
    {
     "name": "stdout",
     "output_type": "stream",
     "text": [
      "Akash Kaingade\n",
      "edagniaK hsakA"
     ]
    }
   ],
   "source": [
    "a=input()\n",
    "for i in range (len(a)-1,-1,-1):\n",
    "    print(a[i],end='')"
   ]
  },
  {
   "cell_type": "markdown",
   "metadata": {},
   "source": [
    "####  Answer 3"
   ]
  },
  {
   "cell_type": "code",
   "execution_count": 1,
   "metadata": {},
   "outputs": [
    {
     "name": "stdout",
     "output_type": "stream",
     "text": [
      "Akash Kaingade\n",
      "The reversed:  edagniaK hsakA\n"
     ]
    }
   ],
   "source": [
    "s=input('')\n",
    "s1=''\n",
    "for i in s:\n",
    "    s1=i+s1\n",
    "print('The reversed: ', s1)"
   ]
  },
  {
   "cell_type": "code",
   "execution_count": null,
   "metadata": {},
   "outputs": [],
   "source": []
  }
 ],
 "metadata": {
  "kernelspec": {
   "display_name": "Python 3",
   "language": "python",
   "name": "python3"
  },
  "language_info": {
   "codemirror_mode": {
    "name": "ipython",
    "version": 3
   },
   "file_extension": ".py",
   "mimetype": "text/x-python",
   "name": "python",
   "nbconvert_exporter": "python",
   "pygments_lexer": "ipython3",
   "version": "3.7.6"
  }
 },
 "nbformat": 4,
 "nbformat_minor": 4
}
